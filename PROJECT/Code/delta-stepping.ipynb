{
 "cells": [
  {
   "cell_type": "code",
   "execution_count": 16,
   "metadata": {
    "collapsed": false
   },
   "outputs": [
    {
     "data": {
      "text/plain": [
       "Deltastep (generic function with 1 method)"
      ]
     },
     "execution_count": 16,
     "metadata": {},
     "output_type": "execute_result"
    }
   ],
   "source": [
    "function Deltastep(list,s,delta)\n",
    "    C=Dict()\n",
    "    V=Set()\n",
    "    tent=Dict()\n",
    "    B=Dict{Int,Set}()\n",
    "    E=Set()\n",
    "    heavy=Dict()\n",
    "    light=Dict()\n",
    "    Req=[]\n",
    "    pred=Dict()\n",
    "    for item in list \n",
    "        C[item[1],item[2]]=item[3]\n",
    "        push!(V,item[1])\n",
    "        push!(V,item[2])\n",
    "        push!(E,[item[1],item[2]])\n",
    "        heavy[item[1]]=[]\n",
    "        light[item[1]]=[]\n",
    "        tent[item[1]]=10000000000000\n",
    "        pred[item[2]]=10000000000000\n",
    "    end\n",
    " \n",
    "    #println(\"C=$C\")\n",
    "\n",
    "    for e in E\n",
    "        v=e[1]\n",
    "        w=e[2]\n",
    "        if C[v,w]>delta\n",
    "            push!(heavy[v],e)\n",
    "        else\n",
    "            push!(light[v],e)\n",
    "        end\n",
    "    end\n",
    "    #println(\"Heavy: $heavy \")\n",
    "    #println(\"Light: $light  \")\n",
    "    #println(\"E=$E\")\n",
    "    relax(s,0,delta,B,tent,pred,1000000000)\n",
    "    i=0\n",
    "    while isempty(B)==false\n",
    "        #println(\"B=$B\")\n",
    "        #println(\"tent=$tent\")\n",
    "        # Processing vertices from B[i]\n",
    "        if haskey(B,i)==true\n",
    "            S=Set()\n",
    "            # Relax recursively all light edges while they stay in B[i]\n",
    "            while isempty(B[i])==false\n",
    "                # Push to Req all light edges from vertices in B[i]\n",
    "                Req=[]\n",
    "                for v in B[i]\n",
    "                    #println(\"v=$v\")\n",
    "                    for e in light[v]\n",
    "                        #println(\"e=$e\")\n",
    "                        push!(Req,[e[2],tent[v]+C[e[1],e[2]],v])\n",
    "                    end\n",
    "                end\n",
    "                # Update S\n",
    "                union!(S,B[i])\n",
    "                B[i]=Set()\n",
    "                \n",
    "                # Relax all Req edges\n",
    "                for r in Req\n",
    "                    #println(\"r=$r\")\n",
    "                    relax(r[1],r[2],delta,B,tent,pred,r[3])\n",
    "                end\n",
    "            end\n",
    "            # Relax all heavy edges of vertices in S\n",
    "            Req=[]\n",
    "            delete!(B,i)\n",
    "            for v in S\n",
    "                for e in heavy[v]\n",
    "                    push!(Req,[e[2],tent[v]+C[e[1],e[2]],v])\n",
    "                end\n",
    "            end\n",
    "            for r in Req\n",
    "                relax(r[1],r[2],delta,B,tent,pred,r[3])\n",
    "            end\n",
    "        end\n",
    "        \n",
    "        i=i+1\n",
    "    end\n",
    "    \n",
    "    println(\"This is the answer: $tent\")\n",
    "  \n",
    "    return tent,pred\n",
    "    \n",
    "   \n",
    "end"
   ]
  },
  {
   "cell_type": "code",
   "execution_count": 15,
   "metadata": {
    "collapsed": false
   },
   "outputs": [
    {
     "data": {
      "text/plain": [
       "relax (generic function with 1 method)"
      ]
     },
     "execution_count": 15,
     "metadata": {},
     "output_type": "execute_result"
    }
   ],
   "source": [
    "function relax(w,d,delta,B,tent,pred,v)\n",
    "    #println(\"w : $w\")\n",
    "    if d<tent[w]\n",
    "        old_i=floor(tent[w]/delta)\n",
    "        tent[w]=d\n",
    "        \n",
    "        if (haskey(B,old_i)==true)\n",
    "            delete!(B[fl],w)\n",
    "            \n",
    "        else\n",
    "            #println(\"Warning: In relax (w=$w,d=$d,delta=$delta), B[old_i=$old_i] not found\")\n",
    "        end\n",
    "        #Add w to new bin and update its tent\n",
    "        new_i=floor(d/delta)\n",
    "        if (haskey(B,new_i)==false)\n",
    "            B[new_i]=Set()\n",
    "            #println(\"Warning: In relax (w=$w,d=$d,delta=$delta), allocated B[fld=$new_i].\")\n",
    "        end\n",
    "        push!(B[new_i],w)\n",
    "        tent[w]=d\n",
    "        pred[w]=v\n",
    "        #println(\"The previous node visited was: $pred\")\n",
    "    end\n",
    "end\n",
    "        \n"
   ]
  },
  {
   "cell_type": "markdown",
   "metadata": {},
   "source": [
    "\n"
   ]
  },
  {
   "cell_type": "code",
   "execution_count": 17,
   "metadata": {
    "collapsed": false
   },
   "outputs": [
    {
     "data": {
      "text/plain": [
       "5-element Array{Array{Int64,N},1}:\n",
       " [1,2,1]\n",
       " [2,3,1]\n",
       " [3,1,4]\n",
       " [3,4,2]\n",
       " [4,2,5]"
      ]
     },
     "execution_count": 17,
     "metadata": {},
     "output_type": "execute_result"
    }
   ],
   "source": [
    "a=Array{Int64}[]\n",
    "push!(a,[1,2,1])\n",
    "push!(a,[2,3,1])\n",
    "push!(a,[3,1,4])\n",
    "push!(a,[3,4,2])\n",
    "push!(a,[4,2,5])\n"
   ]
  },
  {
   "cell_type": "code",
   "execution_count": 7,
   "metadata": {
    "collapsed": false
   },
   "outputs": [
    {
     "data": {
      "text/plain": [
       "path (generic function with 1 method)"
      ]
     },
     "execution_count": 7,
     "metadata": {},
     "output_type": "execute_result"
    }
   ],
   "source": [
    "function path(pred,w)\n",
    "  v=w\n",
    "  path = []\n",
    "  while v<1000000000\n",
    "        push!(path,v)\n",
    "        println(\"$path\")\n",
    "        v = pred[v]\n",
    "   end\n",
    "    \n",
    "  return path\n",
    "end\n"
   ]
  },
  {
   "cell_type": "code",
   "execution_count": 19,
   "metadata": {
    "collapsed": false,
    "scrolled": true
   },
   "outputs": [
    {
     "name": "stdout",
     "output_type": "stream",
     "text": [
      "This is the answer: Dict{Any,Any}(4=>3,2=>0,3=>1,1=>5)\n",
      "  0.000344 seconds (472 allocations: 36.479 KB)\n"
     ]
    },
    {
     "data": {
      "text/plain": [
       "(Dict{Any,Any}(4=>3,2=>0,3=>1,1=>5),Dict{Any,Any}(4=>3,2=>1000000000,3=>2,1=>3))"
      ]
     },
     "execution_count": 19,
     "metadata": {},
     "output_type": "execute_result"
    }
   ],
   "source": [
    "@time Deltastep(a,2,1)\n"
   ]
  },
  {
   "cell_type": "markdown",
   "metadata": {
    "collapsed": true
   },
   "source": [
    "# "
   ]
  },
  {
   "cell_type": "code",
   "execution_count": 48,
   "metadata": {
    "collapsed": false
   },
   "outputs": [
    {
     "name": "stdout",
     "output_type": "stream",
     "text": [
      "Any[4]\n",
      "Any[4,3]\n",
      "Any[4,3,2]\n"
     ]
    },
    {
     "data": {
      "text/plain": [
       "3-element Array{Any,1}:\n",
       " 4\n",
       " 3\n",
       " 2"
      ]
     },
     "execution_count": 48,
     "metadata": {},
     "output_type": "execute_result"
    }
   ],
   "source": [
    "path(pred,4)"
   ]
  },
  {
   "cell_type": "code",
   "execution_count": 1,
   "metadata": {
    "collapsed": false
   },
   "outputs": [
    {
     "data": {
      "text/plain": [
       "Deltastepar (generic function with 1 method)"
      ]
     },
     "execution_count": 1,
     "metadata": {},
     "output_type": "execute_result"
    }
   ],
   "source": [
    "        \n",
    "function Deltastepar(list,s,delta)\n",
    "    C=Dict()\n",
    "    V=Set()\n",
    "    tent=Dict()\n",
    "    B=Dict{Any,Set}()\n",
    "    E=Set()\n",
    "    heavy=Dict()\n",
    "    light=Dict()\n",
    "    Req=[]\n",
    "    pred=Dict()\n",
    "    \n",
    "   \n",
    "    for item in list \n",
    "        C[item[1],item[2]]=item[3]\n",
    "        push!(V,item[1])\n",
    "        push!(V,item[2])\n",
    "        push!(E,[item[1],item[2]])\n",
    "        heavy[item[1]]=[]\n",
    "        heavy[item[2]]=[]\n",
    "        light[item[1]]=[]\n",
    "        light[item[2]]=[]\n",
    "        tent[item[1]]=10000000000000\n",
    "        tent[item[2]]=10000000000000\n",
    "        pred[item[2]]=10000000000000\n",
    "       \n",
    "    end\n",
    "    \n",
    "\n",
    "    # println(\"C=$C\")\n",
    "\n",
    "    for e in E\n",
    "        v=e[1]\n",
    "        w=e[2]\n",
    "        if C[v,w]>delta\n",
    "            push!(heavy[v],e)\n",
    "        else\n",
    "            push!(light[v],e)\n",
    "        end\n",
    "    end\n",
    "    # println(\"Heavy: $heavy \")\n",
    "    # println(\"Light: $light  \")\n",
    "    # println(\"E=$E\")\n",
    "    relax(s,0,delta,B,tent,pred,1000000000)\n",
    "    i=0\n",
    "   \n",
    "    while isempty(B)==false\n",
    "        # println(\"B=$B\")\n",
    "        # println(\"tent=$tent\")\n",
    "        # Processing vertices from B[i]\n",
    "        if haskey(B,i)==true\n",
    "            S=Set()\n",
    "            # Relax recursively all light edges while they stay in B[i]\n",
    "            while isempty(B[i])==false\n",
    "                # Push to Req all light edges from vertices in B[i]\n",
    "                Req=[]\n",
    "                 for v in B[i]\n",
    "                    # println(\"v=$v\")\n",
    "                    for e in light[v]\n",
    "                        # println(\"e=$e\")\n",
    "                        push!(Req,[e[2],tent[v]+C[e[1],e[2]],v])\n",
    "                    end\n",
    "                end\n",
    "                # Update S\n",
    "                union!(S,B[i])\n",
    "                B[i]=Set()\n",
    "                \n",
    "                # Relax all Req edges\n",
    "                \n",
    "                # println(\"r=$r\")\n",
    "                for r in Req \n",
    "                relax(r[1],r[2],delta,B,tent,pred,r[3]) \n",
    "                end\n",
    "            end\n",
    "            # Relax all heavy edges of vertices in S\n",
    "            Req=[]\n",
    "            delete!(B,i)\n",
    "            for v in S\n",
    "                for e in heavy[v]\n",
    "                    push!(Req,[e[2],tent[v]+C[e[1],e[2]],v])\n",
    "                end\n",
    "            end\n",
    "\n",
    "            for r in Req\n",
    "                relax(r[1],r[2],delta,B,tent,pred,r[3])\n",
    "            \n",
    "            end\n",
    "             \n",
    "        end\n",
    "        \n",
    "        i=i+1\n",
    "    end\n",
    "    \n",
    "    println(\"This is the answer: $tent\")\n",
    "  \n",
    "    return tent,pred\n",
    "    \n",
    "   \n",
    "end"
   ]
  },
  {
   "cell_type": "code",
   "execution_count": 2,
   "metadata": {
    "collapsed": false
   },
   "outputs": [
    {
     "data": {
      "text/plain": [
       "4-element Array{Int64,1}:\n",
       " 2\n",
       " 3\n",
       " 4\n",
       " 5"
      ]
     },
     "execution_count": 2,
     "metadata": {},
     "output_type": "execute_result"
    }
   ],
   "source": [
    "addprocs()\n"
   ]
  },
  {
   "cell_type": "code",
   "execution_count": 4,
   "metadata": {
    "collapsed": false
   },
   "outputs": [
    {
     "ename": "LoadError",
     "evalue": "LoadError: UndefVarError: relax not defined\nwhile loading In[4], in expression starting on line 2",
     "output_type": "error",
     "traceback": [
      "LoadError: UndefVarError: relax not defined\nwhile loading In[4], in expression starting on line 2",
      ""
     ]
    }
   ],
   "source": [
    "\n",
    "Deltastepar(a,2,1)"
   ]
  },
  {
   "cell_type": "code",
   "execution_count": 63,
   "metadata": {
    "collapsed": false
   },
   "outputs": [
    {
     "data": {
      "text/plain": [
       "Deltastep (generic function with 1 method)"
      ]
     },
     "execution_count": 63,
     "metadata": {},
     "output_type": "execute_result"
    }
   ],
   "source": [
    "function Deltastep(list,s,delta)\n",
    "    \n",
    "    C=Dict()\n",
    "    V=Set()\n",
    "     tent=Dict()\n",
    "     B=Dict{Int,Set}()\n",
    "    E=Set()\n",
    "    heavy=Dict()\n",
    "    light=Dict()\n",
    "    Req=[]\n",
    "    pred=Dict()\n",
    "    \n",
    "    @sync @parallel  for item in list\n",
    "        heavy[item[1]]= 10000000\n",
    "    end\n",
    "    \n",
    "    println(\"Heavy: $heavy \")\n",
    "    println(\"Heavy[2] $heavy[2]\")\n",
    "end"
   ]
  },
  {
   "cell_type": "code",
   "execution_count": 64,
   "metadata": {
    "collapsed": false
   },
   "outputs": [
    {
     "name": "stdout",
     "output_type": "stream",
     "text": [
      "Heavy: Dict{Any,Any}() \n",
      "Heavy[2] Dict{Any,Any}()[2]\n"
     ]
    }
   ],
   "source": [
    "Deltastep(a,2,1)"
   ]
  },
  {
   "cell_type": "code",
   "execution_count": 41,
   "metadata": {
    "collapsed": false
   },
   "outputs": [
    {
     "data": {
      "text/plain": [
       "4-element Array{Int64,1}:\n",
       " 6\n",
       " 7\n",
       " 8\n",
       " 9"
      ]
     },
     "execution_count": 41,
     "metadata": {},
     "output_type": "execute_result"
    }
   ],
   "source": [
    "addprocs()"
   ]
  },
  {
   "cell_type": "code",
   "execution_count": 13,
   "metadata": {
    "collapsed": false
   },
   "outputs": [
    {
     "data": {
      "text/plain": [
       "Deltastepar (generic function with 1 method)"
      ]
     },
     "execution_count": 13,
     "metadata": {},
     "output_type": "execute_result"
    }
   ],
   "source": [
    "function Deltastepar(list,s,delta)\n",
    "    C=Dict()\n",
    "    l=length(list)\n",
    "    V=Set()\n",
    "    tent=SharedArray(Int64,l)\n",
    "    B=SharedArray(Int64,l+1)\n",
    "    E=Set()\n",
    "    heavy=Dict()\n",
    "    light=Dict()\n",
    "    Req=[]\n",
    "    pred=Dict()\n",
    "    \n",
    "    for item in list \n",
    "        C[item[1],item[2]]=item[3]\n",
    "        push!(V,item[1])\n",
    "        push!(V,item[2])\n",
    "        push!(E,[item[1],item[2]])\n",
    "    end\n",
    "    B=SharedArray(Int64,l+1)\n",
    "    @parallel for v in 1:l+1\n",
    "        tent[v]=10000000000000\n",
    "        pred[v]=10000000000000\n",
    "            \n",
    "    end\n",
    "    \n",
    "    for e in E\n",
    "        v=e[1]\n",
    "        w=e[2]\n",
    "        if C[v,w]>delta\n",
    "            heavy[v]=e\n",
    "        else\n",
    "            light[v]=e\n",
    "        end\n",
    "    end\n",
    "            \n",
    "    println(\"V:$V\")\n",
    "    println(\"E:$E\")\n",
    "    println(\"tent:$tent\")\n",
    "    println(\"pred:$pred\")\n",
    "    println(\"heavy: $heavy\")\n",
    "    println(\"light:$light\")\n",
    "    \n",
    "    relaxpar(s,0,delta,B,tent,pred,1000000000)\n",
    "    \n",
    "    i=1\n",
    "    while norm(B)!=0\n",
    "         println(\"B=$B\")\n",
    "         println(\"tent=$tent\")\n",
    "        # Processing vertices from B[i]\n",
    "        S=Set()\n",
    "        for i in 1:l\n",
    "        while B[i]!=0\n",
    "            for e in light[B[i]]\n",
    "                push!(Req,[e[2],tent[B[i]]+C[e[1],e[2]],e[1]])\n",
    "            end\n",
    "            union!(S,B[i])\n",
    "            for r in Req \n",
    "                relax(r[1],r[2],delta,B,tent,pred,r[3]) \n",
    "            end\n",
    "        end\n",
    "            # Relax all heavy edges of vertices in S\n",
    "            Req=[]\n",
    "            B[i]=0\n",
    "            for v in S\n",
    "                for e in heavy[v]\n",
    "                    push!(Req,[e[2],tent[v]+C[e[1],e[2]],v])\n",
    "                end\n",
    "            end\n",
    "            for r in Req\n",
    "                relax(r[1],r[2],delta,B,tent,pred,r[3])\n",
    "            end\n",
    "        end\n",
    "        \n",
    "        \n",
    "    end\n",
    "    \n",
    "\n",
    "    return tent, pred\n",
    "    \n",
    "end"
   ]
  },
  {
   "cell_type": "code",
   "execution_count": 14,
   "metadata": {
    "collapsed": false
   },
   "outputs": [
    {
     "name": "stdout",
     "output_type": "stream",
     "text": [
      "V:Set(Any[4,2,3,1])\n",
      "E:Set(Any[[3,1],[1,2],[4,2],[3,4],[2,3]])\n",
      "tent:[0.0,0.0,0.0,0.0,0.0]\n",
      "pred:Dict{Any,Any}()\n",
      "heavy: Dict{Any,Any}(4=>[4,2],3=>[3,4])\n",
      "light:Dict{Any,Any}(2=>[2,3],1=>[1,2])\n",
      "w : 2\n"
     ]
    },
    {
     "data": {
      "text/plain": [
       "([0.0,0.0,0.0,0.0,0.0],Dict{Any,Any}())"
      ]
     },
     "execution_count": 14,
     "metadata": {},
     "output_type": "execute_result"
    }
   ],
   "source": [
    "Deltastepar(a,2,1)\n"
   ]
  },
  {
   "cell_type": "code",
   "execution_count": 9,
   "metadata": {
    "collapsed": true
   },
   "outputs": [],
   "source": [
    "@everywhere function relaxpar(w,d,delta,B,tent,pred,v)\n",
    "    println(\"w : $w\")\n",
    "    if d<tent[w]\n",
    "        tent[w]=d\n",
    "        new_i=Int(floor(d/delta))+1\n",
    "        println(\"new_i:$new_i\")\n",
    "        B[new_i]=w\n",
    "        pred[w]=v\n",
    "        println(\"The previous node visited was: $pred\")\n",
    "    end\n",
    "end"
   ]
  },
  {
   "cell_type": "code",
   "execution_count": null,
   "metadata": {
    "collapsed": true
   },
   "outputs": [],
   "source": []
  }
 ],
 "metadata": {
  "kernelspec": {
   "display_name": "Julia 0.4.4-pre",
   "language": "julia",
   "name": "julia-0.4"
  },
  "language_info": {
   "file_extension": ".jl",
   "mimetype": "application/julia",
   "name": "julia",
   "version": "0.4.4"
  }
 },
 "nbformat": 4,
 "nbformat_minor": 0
}
